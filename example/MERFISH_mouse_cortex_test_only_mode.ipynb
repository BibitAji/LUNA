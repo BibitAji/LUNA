{
 "cells": [
  {
   "cell_type": "markdown",
   "metadata": {},
   "source": [
    "## Testing Checkpoints from Your Trained LUNA Model\n",
    "\n",
    "This notebook will demonstrate how to test on LUNA's checkpoints for an example dataset: MERFISH Mouse Primary Motor Cortex Atlas [1]. \n",
    "\n",
    "This tutorial assumes that the model has already been trained on this dataset. Here, we will focus exclusively on initiating the model in 'test_only' mode.\n",
    "\n",
    "[1] Zhang, Meng, et al. \"Spatially Resolved Cell Atlas of the Mouse Primary Motor Cortex by MERFISH.\" Nature 598.7879 (2021): 137-143."
   ]
  },
  {
   "cell_type": "markdown",
   "metadata": {},
   "source": [
    "### Locating Checkpoint Paths\n",
    "\n",
    "Our model training leverages [Hydra](https://hydra.cc/docs/intro/), a framework designed for elegantly configuring complex applications. By default, all models are saved within the `./outputs` directory, which resides at the same directory level as the LUNA codebase.\n",
    "\n",
    "Each trained model is stored in a directory named after the date and time the job was initiated, following the format `/{date-of-job}/{time-stamp}-{general.name}`. Here, `{time-stamp}` refers to the start time of the job, and `{general.name}` corresponds to the job's name specified in the configuration file. For example, the `name` flag under the `general` section in `/LUNA/configs/experiment/MERFISH_mouse_cortex.yaml` determines this naming convention.\n",
    "\n",
    "Once you locate the appropriate directory containing your completed job's details, you will find everything related to that run, including the complete configuration settings and the saved checkpoints."
   ]
  },
  {
   "cell_type": "code",
   "execution_count": 1,
   "metadata": {},
   "outputs": [],
   "source": [
    "# the path to the parent directory of the checkpoints (please adapt the path to your own checkpoints)\n",
    "checkpoints_parent_dir = '/outputs/date-of-job/time-stamp-job-name/checkpoints'\n",
    "\n",
    "# the name list of the checkpoints (please adapt the names to your own checkpoints)\n",
    "checkpoint_name = ['epoch=999.ckpt', 'epoch=1999.ckpt', 'epoch=2999.ckpt']"
   ]
  },
  {
   "cell_type": "markdown",
   "metadata": {},
   "source": [
    "### Initialize configuration files\n",
    "\n"
   ]
  },
  {
   "cell_type": "code",
   "execution_count": null,
   "metadata": {},
   "outputs": [],
   "source": [
    "import hydra\n",
    "from omegaconf import DictConfig\n",
    "from hydra import initialize, compose\n",
    "\n",
    "# Initialize the Hydra config within Jupyter\n",
    "initialize(config_path=\"../configs\")  # Point to your config directory\n",
    "\n",
    "# Compose the configuration\n",
    "cfg = compose(config_name=\"config\")   # Load your main config.yaml\n"
   ]
  },
  {
   "cell_type": "code",
   "execution_count": null,
   "metadata": {},
   "outputs": [],
   "source": [
    "cfg"
   ]
  },
  {
   "cell_type": "markdown",
   "metadata": {},
   "source": [
    "### Change configurations to test_only mode\n",
    "\n",
    "You can also just simply change the configuration variables under the `test` section in `/LUNA/configs/experiment/MERFISH_mouse_cortex.yaml`."
   ]
  },
  {
   "cell_type": "code",
   "execution_count": null,
   "metadata": {},
   "outputs": [],
   "source": [
    "## The following is the configuration file that you need to use for the experiment. Here is only for information. The command to run the experiment is in the next cell.\n",
    "\n",
    "cfg.general.name = 'MERFISH_mouse_cortex_test_only' # the name of the experiment\n",
    "cfg.general.mode = 'test_only' # the mode of the experiment\n",
    "\n",
    "cfg.test.save_dir = '/path/to/save/test/results' # the path to save the test results\n",
    "cfg.test.checkpoints_parent_dir = checkpoints_parent_dir # the path to the parent directory of the checkpoints\n",
    "cfg.test.checkpoint_name = checkpoint_name # the name list of the checkpoints"
   ]
  },
  {
   "cell_type": "markdown",
   "metadata": {},
   "source": [
    "### Run the test_only mode of the model"
   ]
  },
  {
   "cell_type": "code",
   "execution_count": null,
   "metadata": {},
   "outputs": [],
   "source": [
    "!python3 ../main.py general.name=MERFISH_mouse_cortex_test_only \\\n",
    "                                general.mode = 'test_only' \\\n",
    "                                test.save_dir = '/path/to/save/test/results' \\\n",
    "                                test.checkpoints_parent_dir = checkpoints_parent_dir \\\n",
    "                                test.checkpoint_name = checkpoint_name \\"
   ]
  },
  {
   "cell_type": "markdown",
   "metadata": {},
   "source": [
    "### Remark: since `checkpoint_name` is a list, directly assigning it to `test.checkpoint_name` using a command might lead to errors\n",
    "\n",
    "We recommend modifying the configuration `.yaml` file accordingly. For instance, adjust the variables under the `general` section and the `test` section in `/LUNA/configs/experiment/MERFISH_mouse_cortex.yaml` as follows: \n",
    "\n",
    "\n",
    "```bash\n",
    "general:\n",
    "    name : 'MERFISH_mouse_cortex_test_only' # name of the experiment\n",
    "    mode : 'test_only' # mode of the experiment, train_and_test, test_only\n",
    "test:\n",
    "    save_dir: '/path/to/save/test/results' # Path to save the inference results.\n",
    "    checkpoints_parent_dir: '/outputs/date-of-job/time-stamp-job-name/checkpoints' # only for 'test_only' mode, path to the checkpoint to test.\n",
    "    checkpoint_name: ['epoch=999.ckpt', 'epoch=1999.ckpt', 'epoch=2999.ckpt'] # Name of the checkpoint to be used for testing\n",
    "```\n",
    "\n",
    "With these adjustments, you can proceed by running `main.py` in your command line to execute the test."
   ]
  },
  {
   "cell_type": "code",
   "execution_count": null,
   "metadata": {},
   "outputs": [],
   "source": [
    "!python3 ../main.py"
   ]
  }
 ],
 "metadata": {
  "kernelspec": {
   "display_name": "LUNA",
   "language": "python",
   "name": "python3"
  },
  "language_info": {
   "codemirror_mode": {
    "name": "ipython",
    "version": 3
   },
   "file_extension": ".py",
   "mimetype": "text/x-python",
   "name": "python",
   "nbconvert_exporter": "python",
   "pygments_lexer": "ipython3",
   "version": "3.9.21"
  }
 },
 "nbformat": 4,
 "nbformat_minor": 2
}
