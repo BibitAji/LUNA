{
 "cells": [
  {
   "cell_type": "markdown",
   "metadata": {},
   "source": [
    "# Running LUNA\n",
    "\n",
    "This notebook willdemonstrate how to run LUNA for an example dataset: MERFISH Mouse Primary Motor Cortex Atlas [1]. \n",
    "\n",
    "[1] Zhang, Meng, et al. \"Spatially Resolved Cell Atlas of the Mouse Primary Motor Cortex by MERFISH.\" Nature 598.7879 (2021): 137-143."
   ]
  },
  {
   "cell_type": "markdown",
   "metadata": {},
   "source": [
    "## Prepare the dataset\n",
    "\n",
    "First please download data from the google drive:"
   ]
  },
  {
   "cell_type": "code",
   "execution_count": null,
   "metadata": {},
   "outputs": [],
   "source": [
    "## Prepare the dataset"
   ]
  },
  {
   "cell_type": "code",
   "execution_count": null,
   "metadata": {},
   "outputs": [],
   "source": [
    "import hydra\n",
    "from omegaconf import DictConfig\n",
    "from hydra import initialize, compose\n",
    "\n",
    "# Initialize the Hydra config within Jupyter\n",
    "initialize(config_path=\"../configs\")  # Point to your config directory\n",
    "\n",
    "# Compose the configuration\n",
    "cfg = compose(config_name=\"config\")   # Load your main config.yaml\n"
   ]
  }
 ],
 "metadata": {
  "kernelspec": {
   "display_name": "spatial-reconstruction-3",
   "language": "python",
   "name": "python3"
  },
  "language_info": {
   "codemirror_mode": {
    "name": "ipython",
    "version": 3
   },
   "file_extension": ".py",
   "mimetype": "text/x-python",
   "name": "python",
   "nbconvert_exporter": "python",
   "pygments_lexer": "ipython3",
   "version": "3.9.18"
  }
 },
 "nbformat": 4,
 "nbformat_minor": 2
}
