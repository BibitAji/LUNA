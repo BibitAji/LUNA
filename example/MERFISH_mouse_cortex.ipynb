{
 "cells": [
  {
   "cell_type": "markdown",
   "metadata": {},
   "source": [
    "# Running LUNA\n",
    "\n",
    "This notebook willdemonstrate how to run LUNA for an example dataset: MERFISH Mouse Primary Motor Cortex Atlas [1]. \n",
    "\n",
    "[1] Zhang, Meng, et al. \"Spatially Resolved Cell Atlas of the Mouse Primary Motor Cortex by MERFISH.\" Nature 598.7879 (2021): 137-143."
   ]
  },
  {
   "cell_type": "markdown",
   "metadata": {},
   "source": [
    "## Prepare the dataset\n",
    "### Download the data\n",
    "\n",
    "First please [download data](https://drive.google.com/file/d/1YP1s_dERAUh7vXUjMRSvuFJllGBX8tYr/view?usp=drive_link) from the google drive, and uncompress the folder to extract the data for training and inference. "
   ]
  },
  {
   "cell_type": "markdown",
   "metadata": {},
   "source": []
  },
  {
   "cell_type": "code",
   "execution_count": 1,
   "metadata": {},
   "outputs": [],
   "source": [
    "# Make the csv\n",
    "import pandas as pd\n",
    "root_directory = '../data/MERFISH_mouse_cortex' # Change this to the directory where the data is stored\n",
    "train_data = pd.read_csv(root_directory + '/MERFISH_mouse_cortex_train.csv', index_col=0)\n",
    "test_data = pd.read_csv(root_directory + '/MERFISH_mouse_cortex_test.csv', index_col=0)"
   ]
  },
  {
   "cell_type": "markdown",
   "metadata": {},
   "source": [
    "### Make sure the columns are standardised and aligned\n",
    "\n",
    "1. the coordinates ('coord_X' and 'coord_Y'), cell section information ('cell_section'), and the cell annotation information ('cell_class') are included in the dataframe. For inference data that has no spatial information, please impute 'coord_X' and 'coord_Y' as zeros.\n",
    "\n",
    "2. the order of genes for the train data and the test data should be aligned. "
   ]
  },
  {
   "cell_type": "code",
   "execution_count": 2,
   "metadata": {},
   "outputs": [],
   "source": [
    "required_columns = ['coord_X', 'coord_Y', 'cell_section', 'cell_class']\n",
    "\n",
    "if not all(col in train_data.columns for col in required_columns):\n",
    "    print('Please make sure that the columns coord_X, coord_Y, cell_section, and cell_class are in the train csv file')\n",
    "\n",
    "if not all(col in test_data.columns for col in required_columns):\n",
    "    print('Please make sure that the columns coord_X, coord_Y, cell_section, and cell_class are in the test csv file')\n",
    "\n",
    "number_of_gene = 254\n",
    "\n",
    "if not train_data.columns[:number_of_gene].equals(test_data.columns[:number_of_gene]):\n",
    "    print('Please make sure that the order of the gene names is the same in the train and test csv files')\n"
   ]
  },
  {
   "cell_type": "markdown",
   "metadata": {},
   "source": [
    "## Experiment Configuration\n",
    "\n",
    "### Initialize configuration files\n",
    "\n",
    "The experiment configuration is supported by hydra and omegaconf libraries. See details under the `configs/`. "
   ]
  },
  {
   "cell_type": "code",
   "execution_count": null,
   "metadata": {},
   "outputs": [],
   "source": [
    "import hydra\n",
    "from omegaconf import DictConfig\n",
    "from hydra import initialize, compose\n",
    "\n",
    "# Initialize the Hydra config within Jupyter\n",
    "initialize(config_path=\"../configs\")  # Point to your config directory\n",
    "\n",
    "# Compose the configuration\n",
    "cfg = compose(config_name=\"config\")   # Load your main config.yaml\n"
   ]
  },
  {
   "cell_type": "code",
   "execution_count": null,
   "metadata": {},
   "outputs": [],
   "source": [
    "cfg"
   ]
  },
  {
   "cell_type": "markdown",
   "metadata": {},
   "source": [
    "### Change configurations to run new experiment"
   ]
  },
  {
   "cell_type": "code",
   "execution_count": null,
   "metadata": {},
   "outputs": [],
   "source": [
    "## The following is the configuration file that you need to use for the experiment. Here is only for information. The command to run the experiment is in the next cell.\n",
    "\n",
    "cfg.general.name = 'MERFISH_mouse_cortex' # Change this to the name of the experiment\n",
    "cfg.dataset.gene_columns_start = 0\n",
    "cfg.dataset.gene_columns_end = number_of_gene\n",
    "cfg.dataset.train_data_path = root_directory + '/MERFISH_mouse_cortex_train.csv' # Change this to the path of the train csv file\n",
    "cfg.dataset.test_data_path = root_directory + '/MERFISH_mouse_cortex_test.csv' # Change this to the path of the test csv file\n",
    "cfg.test.save_dir = root_directory + '/MERFISH_mouse_cortex_test_results' # Change this to the directory where you want to save the results"
   ]
  },
  {
   "cell_type": "markdown",
   "metadata": {},
   "source": [
    "### Run the model\n",
    "\n",
    "For this experiment, we have 33 slices in total. If you have a 24GB GPU, e.g., RTX3090, you can run with batch size of 6 (the training will take around 2 hours). Change the batch size to fit to your GPU memory by changing `cfg.train.batch_size`"
   ]
  },
  {
   "cell_type": "code",
   "execution_count": null,
   "metadata": {},
   "outputs": [],
   "source": [
    "!python3 ../main.py general.name=MERFISH_mouse_cortex\\\n",
    "                                dataset.gene_columns_start=0 \\\n",
    "                                dataset.gene_columns_end=254 \\\n",
    "                                distribute.gpus_per_node=[0] \\\n",
    "                                train.batch_size=6 \\\n",
    "                                dataset.train_data_path={root_directory}/MERFISH_mouse_cortex_train.csv \\\n",
    "                                dataset.test_data_path={root_directory}/MERFISH_mouse_cortex_test.csv \\\n",
    "                                test.save_dir={root_directory}/MERFISH_mouse_cortex_test_results\n"
   ]
  },
  {
   "cell_type": "markdown",
   "metadata": {},
   "source": [
    "## Results visualization\n",
    "\n",
    "The checkpoints will be saved under `../output/{date_of_the_experiment}/{time-stamp}-{cfg.general.name}/checkpoints` directory. \n",
    "\n",
    "If you set the `cfg.general.mode=train_and_test` (default), then the inference will automatically happen after the training for all the saved checkpoints. The evaluation results will be saved under your `cfg.train.save_dir` in the structure of `/{cfg.train.save_dir}/{time-stamp}-{cfg.general.name}_{checkpoints}/{cell_section_name}/` with the following files:\n",
    "\n",
    "1. `metadata_pred.csv`: location generation results for cells from this section with three columns: coord_X, coord_Y and cell_class\n",
    "\n",
    "2. `metadata_true.csv`: ground truth spatial information for cells from this section with three columns: coord_X, coord_Y and cell_class\n",
    "\n",
    "3. `class_scatter_plot.pdf`: scatter plot that visualizes the inference results comparing the ground truth cell locations and predicted cell locations. Cells are color-coded by their `cell class`. \n"
   ]
  },
  {
   "cell_type": "code",
   "execution_count": null,
   "metadata": {},
   "outputs": [],
   "source": [
    "## One example folder with the results for one slice (mouse2_slice300) is available at /example/example_result\n",
    "\n",
    "metadata_true = pd.read_csv('./example_result/metadata_true.csv', index_col=0)\n",
    "metadata_pred = pd.read_csv('./example_result/metadata_pred.csv', index_col=0)"
   ]
  },
  {
   "cell_type": "code",
   "execution_count": null,
   "metadata": {},
   "outputs": [],
   "source": [
    "metadata_pred.head()"
   ]
  },
  {
   "cell_type": "code",
   "execution_count": null,
   "metadata": {},
   "outputs": [],
   "source": [
    "## To visualize the results, you can call the following function:\n",
    "import colorcet as cc\n",
    "import matplotlib.pyplot as plt\n",
    "import pandas as pd\n",
    "import seaborn as sns\n",
    "\n",
    "def plot_scatter_visualization(metadata_true, metadata_pred, uniques):\n",
    "    fig, axarr = plt.subplots(1, 2, figsize=(16, 6))\n",
    "\n",
    "    # Define the color palette for the unique categories\n",
    "    pl_palette = sns.color_palette(cc.glasbey, n_colors=len(uniques))\n",
    "    palette_dict = dict(zip(uniques, pl_palette))\n",
    "\n",
    "    # Groundtruth Plot\n",
    "    axarr[0].set_title(\"Ground truth\", fontsize=16)  # Adjust title font size\n",
    "    g1 = sns.scatterplot(\n",
    "        data=metadata_true,\n",
    "        x=\"coord_X\",\n",
    "        y=\"coord_Y\",\n",
    "        hue=\"cell_class\",\n",
    "        s=15,\n",
    "        ax=axarr[0],\n",
    "        palette=palette_dict,\n",
    "        legend=False,  # Do not automatically create a legend\n",
    "    )\n",
    "    g1.set_xlabel(\"X\", fontsize=14)  # Adjust X-axis label font size\n",
    "    g1.set_ylabel(\"Y\", fontsize=14)  # Adjust Y-axis label font size\n",
    "\n",
    "    # Prediction Plot\n",
    "    axarr[1].set_title(\"Prediction\", fontsize=16)  # Adjust title font size\n",
    "    g2 = sns.scatterplot(\n",
    "        data=metadata_pred,\n",
    "        x=\"coord_X\",\n",
    "        y=\"coord_Y\",\n",
    "        hue=\"cell_class\",\n",
    "        s=15,\n",
    "        ax=axarr[1],\n",
    "        palette=palette_dict,\n",
    "        legend=False,  # Do not automatically create a legend\n",
    "    )\n",
    "    g2.set_xlabel(\"X\", fontsize=14)  # Adjust X-axis label font size\n",
    "    g2.set_ylabel(\"Y\", fontsize=14)  # Adjust Y-axis label font size\n",
    "\n",
    "    # Create custom legend\n",
    "    legend_elements = [\n",
    "        plt.Line2D(\n",
    "            [0],\n",
    "            [0],\n",
    "            marker=\"o\",\n",
    "            color=\"w\",\n",
    "            label=cat,\n",
    "            markerfacecolor=palette_dict[cat],\n",
    "            markersize=10,\n",
    "        )\n",
    "        for cat in uniques\n",
    "    ]\n",
    "    ncol = len(uniques) // 4  # Number of columns in the legend\n",
    "    fig.legend(\n",
    "        handles=legend_elements,\n",
    "        loc=\"upper center\",\n",
    "        ncol=ncol,\n",
    "        bbox_to_anchor=(0.5, -0.05),\n",
    "    )\n",
    "\n",
    "    plt.tight_layout()\n",
    "    plt.show()"
   ]
  },
  {
   "cell_type": "code",
   "execution_count": null,
   "metadata": {},
   "outputs": [],
   "source": [
    "plot_scatter_visualization(metadata_true, metadata_pred, metadata_true['cell_class'].unique())"
   ]
  }
 ],
 "metadata": {
  "kernelspec": {
   "display_name": "LUNA",
   "language": "python",
   "name": "python3"
  },
  "language_info": {
   "codemirror_mode": {
    "name": "ipython",
    "version": 3
   },
   "file_extension": ".py",
   "mimetype": "text/x-python",
   "name": "python",
   "nbconvert_exporter": "python",
   "pygments_lexer": "ipython3",
   "version": "3.9.21"
  }
 },
 "nbformat": 4,
 "nbformat_minor": 2
}
